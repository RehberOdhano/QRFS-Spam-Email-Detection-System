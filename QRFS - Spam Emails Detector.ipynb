{
 "cells": [
  {
   "cell_type": "markdown",
   "id": "4674381c",
   "metadata": {},
   "source": [
    "## Description\n",
    "\n",
    "#### This program detects if an email is spam (1) or not (0)"
   ]
  },
  {
   "cell_type": "code",
   "execution_count": 30,
   "id": "86fa4510",
   "metadata": {},
   "outputs": [],
   "source": [
    "# importing the necessary/required libraries\n",
    "import numpy as np\n",
    "import pandas as pd\n",
    "from sklearn.model_selection import train_test_split\n",
    "from sklearn.feature_extraction.text import CountVectorizer\n",
    "from sklearn.naive_bayes import MultinomialNB\n",
    "from sklearn.pipeline import Pipeline\n",
    "from sklearn.metrics import classification_report, confusion_matrix, accuracy_score\n",
    "import nltk\n",
    "import string\n",
    "from nltk.corpus import stopwords"
   ]
  },
  {
   "cell_type": "code",
   "execution_count": 31,
   "id": "6e759d93",
   "metadata": {},
   "outputs": [
    {
     "data": {
      "text/html": [
       "<div>\n",
       "<style scoped>\n",
       "    .dataframe tbody tr th:only-of-type {\n",
       "        vertical-align: middle;\n",
       "    }\n",
       "\n",
       "    .dataframe tbody tr th {\n",
       "        vertical-align: top;\n",
       "    }\n",
       "\n",
       "    .dataframe thead th {\n",
       "        text-align: right;\n",
       "    }\n",
       "</style>\n",
       "<table border=\"1\" class=\"dataframe\">\n",
       "  <thead>\n",
       "    <tr style=\"text-align: right;\">\n",
       "      <th></th>\n",
       "      <th>Message</th>\n",
       "      <th>spam</th>\n",
       "    </tr>\n",
       "  </thead>\n",
       "  <tbody>\n",
       "    <tr>\n",
       "      <th>0</th>\n",
       "      <td>naturally irresistible your corporate identit...</td>\n",
       "      <td>1</td>\n",
       "    </tr>\n",
       "    <tr>\n",
       "      <th>1</th>\n",
       "      <td>the stock trading gunslinger  fanny is merril...</td>\n",
       "      <td>1</td>\n",
       "    </tr>\n",
       "    <tr>\n",
       "      <th>2</th>\n",
       "      <td>unbelievable new homes made easy  im wanting ...</td>\n",
       "      <td>1</td>\n",
       "    </tr>\n",
       "    <tr>\n",
       "      <th>3</th>\n",
       "      <td>4 color printing special  request additional ...</td>\n",
       "      <td>1</td>\n",
       "    </tr>\n",
       "    <tr>\n",
       "      <th>4</th>\n",
       "      <td>do not have money , get software cds from her...</td>\n",
       "      <td>1</td>\n",
       "    </tr>\n",
       "  </tbody>\n",
       "</table>\n",
       "</div>"
      ],
      "text/plain": [
       "                                             Message  spam\n",
       "0   naturally irresistible your corporate identit...     1\n",
       "1   the stock trading gunslinger  fanny is merril...     1\n",
       "2   unbelievable new homes made easy  im wanting ...     1\n",
       "3   4 color printing special  request additional ...     1\n",
       "4   do not have money , get software cds from her...     1"
      ]
     },
     "execution_count": 31,
     "metadata": {},
     "output_type": "execute_result"
    }
   ],
   "source": [
    "# loading the dataset and storing it in a dataframe using pandas\n",
    "df = pd.read_csv(\"spam-emails-dataset.csv\")\n",
    "\n",
    "# selecting only the two columns\n",
    "# df = df[['Category', 'Message']]\n",
    "\n",
    "# printing the first five records/rows of the dataframe\n",
    "df.head()"
   ]
  },
  {
   "cell_type": "code",
   "execution_count": 32,
   "id": "57040d25",
   "metadata": {},
   "outputs": [],
   "source": [
    "# first, we'll convert the spam/ham to a number 1/0 in the category column\n",
    "# we'll have to convert the category & message columns into numbers\n",
    "# because ML models understand only numbers not strings...\n",
    "\n",
    "# first, we'll convert the spam/ham to a number 1/0 in the category column\n",
    "# df['spam'] = df['Category'].apply(lambda x : 1 if x == 'spam' or x == 1 else 0)\n",
    "# df.head()"
   ]
  },
  {
   "cell_type": "code",
   "execution_count": 33,
   "id": "5d6ade40",
   "metadata": {},
   "outputs": [],
   "source": [
    "# data exploration\n",
    "# df.groupby('Category').describe()"
   ]
  },
  {
   "cell_type": "code",
   "execution_count": 34,
   "id": "5d748e6b",
   "metadata": {},
   "outputs": [
    {
     "data": {
      "text/plain": [
       "(5726, 2)"
      ]
     },
     "execution_count": 34,
     "metadata": {},
     "output_type": "execute_result"
    }
   ],
   "source": [
    "# printing the number of rows and columns i.e., the shape\n",
    "df.shape"
   ]
  },
  {
   "cell_type": "code",
   "execution_count": 35,
   "id": "cd380eb7",
   "metadata": {},
   "outputs": [
    {
     "data": {
      "text/plain": [
       "Index(['Message', 'spam'], dtype='object')"
      ]
     },
     "execution_count": 35,
     "metadata": {},
     "output_type": "execute_result"
    }
   ],
   "source": [
    "# printing the column names\n",
    "df.columns"
   ]
  },
  {
   "cell_type": "code",
   "execution_count": 36,
   "id": "01041929",
   "metadata": {},
   "outputs": [],
   "source": [
    "# check for the duplicates and remove them\n",
    "df.drop_duplicates(inplace = True)"
   ]
  },
  {
   "cell_type": "code",
   "execution_count": 37,
   "id": "d38fd887",
   "metadata": {},
   "outputs": [
    {
     "data": {
      "text/plain": [
       "(5693, 2)"
      ]
     },
     "execution_count": 37,
     "metadata": {},
     "output_type": "execute_result"
    }
   ],
   "source": [
    "# show the new shape of the dataframe after removing the duplicates\n",
    "df.shape"
   ]
  },
  {
   "cell_type": "code",
   "execution_count": 38,
   "id": "92fdad7f",
   "metadata": {},
   "outputs": [
    {
     "data": {
      "text/plain": [
       "Message    0\n",
       "spam       0\n",
       "dtype: int64"
      ]
     },
     "execution_count": 38,
     "metadata": {},
     "output_type": "execute_result"
    }
   ],
   "source": [
    "# printing the number of missing data (NaN, NAN, na) for each column\n",
    "df.isnull().sum()"
   ]
  },
  {
   "cell_type": "code",
   "execution_count": 39,
   "id": "011f8751",
   "metadata": {},
   "outputs": [
    {
     "name": "stderr",
     "output_type": "stream",
     "text": [
      "[nltk_data] Downloading package stopwords to\n",
      "[nltk_data]     C:\\Users\\rehbe\\AppData\\Roaming\\nltk_data...\n",
      "[nltk_data]   Package stopwords is already up-to-date!\n"
     ]
    },
    {
     "data": {
      "text/plain": [
       "True"
      ]
     },
     "execution_count": 39,
     "metadata": {},
     "output_type": "execute_result"
    }
   ],
   "source": [
    "# downloading the stopword packages using nltk\n",
    "nltk.download('stopwords')"
   ]
  },
  {
   "cell_type": "code",
   "execution_count": 40,
   "id": "24ccf79f",
   "metadata": {},
   "outputs": [],
   "source": [
    "# creating a custom function which will process the text\n",
    "def processEmail(email):\n",
    "    \n",
    "    # step-01: remove punctuation marks\n",
    "    noPuncText = [char for char in email if char not in string.punctuation]\n",
    "    noPuncText = ''.join(noPuncText)\n",
    "    \n",
    "    # step-02: remove stopwords\n",
    "    cleanWords = [word for word in noPuncText.split() if word.lower() not in stopwords.words('english')]\n",
    "    \n",
    "    # step-03: return a list of clean text words\n",
    "    return cleanWords"
   ]
  },
  {
   "cell_type": "code",
   "execution_count": 41,
   "id": "66c191a9",
   "metadata": {},
   "outputs": [
    {
     "data": {
      "text/plain": [
       "0    [naturally, irresistible, corporate, identity,...\n",
       "1    [stock, trading, gunslinger, fanny, merrill, m...\n",
       "2    [unbelievable, new, homes, made, easy, im, wan...\n",
       "3    [4, color, printing, special, request, additio...\n",
       "4    [money, get, software, cds, software, compatib...\n",
       "Name: Message, dtype: object"
      ]
     },
     "execution_count": 41,
     "metadata": {},
     "output_type": "execute_result"
    }
   ],
   "source": [
    "# show the tokenization - a list of token also called lemmas\n",
    "df['Message'].head().apply(processEmail)"
   ]
  },
  {
   "cell_type": "code",
   "execution_count": 42,
   "id": "4ff0c548",
   "metadata": {},
   "outputs": [],
   "source": [
    "# splitting the samples into train and test datasets respectively... setting the test size to 25%\n",
    "X_train, X_test, y_train, y_test = train_test_split(df.Message, df.spam, test_size=0.25)"
   ]
  },
  {
   "cell_type": "code",
   "execution_count": 43,
   "id": "7c07991e",
   "metadata": {},
   "outputs": [],
   "source": [
    "emails = [\n",
    "    'WINNER!! As a valued network customer you have been selected to receivea Â£900 prize reward! To claim call 09061701461. Claim code KL341. Valid 12 hours only.',\n",
    "    \"As per your request 'Melle Melle (Oru Minnaminunginte Nurungu Vettam)' has been set as your callertune for all Callers. Press *9 to copy your friends Callertune\",\n",
    "    'Hi there, there are sexy singles in your area that want to meet you. Kindly reply with your details below so that I can connect you to amazing single ladies that will show you the best time of your life uwu. I will be needing your Credit Card details, your full name, your social security number, your phone number, and finally your address. Kindly reply to me as fast as u can then I can process your information and make sure you get connected to a lovely lady.',\n",
    "    'Hi, emailing you in response to the thing we discussed yesterday. You can find my CV attached'\n",
    "]"
   ]
  },
  {
   "cell_type": "code",
   "execution_count": 46,
   "id": "fcea9684",
   "metadata": {},
   "outputs": [],
   "source": [
    "# creating a classifier using the pipeline\n",
    "\n",
    "clf = Pipeline([\n",
    "    ('vectorizer', CountVectorizer()), # step-1: convert the text into a vector\n",
    "    ('nb', MultinomialNB()) # step-2: then apply the MultinomialNB\n",
    "])"
   ]
  },
  {
   "cell_type": "code",
   "execution_count": 47,
   "id": "33bc8af1",
   "metadata": {},
   "outputs": [
    {
     "data": {
      "text/plain": [
       "Pipeline(steps=[('vectorizer', CountVectorizer()), ('nb', MultinomialNB())])"
      ]
     },
     "execution_count": 47,
     "metadata": {},
     "output_type": "execute_result"
    }
   ],
   "source": [
    "# training the classifier\n",
    "\n",
    "# X_train is basically the text in 'Message' column... Previously, first we converted that text into a matrix\n",
    "# and then train the model on that matrix values..\n",
    "clf.fit(X_train, y_train) "
   ]
  },
  {
   "cell_type": "code",
   "execution_count": 48,
   "id": "4773e572",
   "metadata": {},
   "outputs": [
    {
     "data": {
      "text/plain": [
       "98.5252808988764"
      ]
     },
     "execution_count": 48,
     "metadata": {},
     "output_type": "execute_result"
    }
   ],
   "source": [
    "# measuring the accuracy of the classifier\n",
    "clf.score(X_test, y_test) * 100"
   ]
  },
  {
   "cell_type": "code",
   "execution_count": 49,
   "id": "3d6e0f3b",
   "metadata": {},
   "outputs": [
    {
     "data": {
      "text/plain": [
       "array([1, 1, 1, 0], dtype=int64)"
      ]
     },
     "execution_count": 49,
     "metadata": {},
     "output_type": "execute_result"
    }
   ],
   "source": [
    "# predict\n",
    "clf.predict(emails)"
   ]
  },
  {
   "cell_type": "code",
   "execution_count": null,
   "id": "3efb313a",
   "metadata": {},
   "outputs": [],
   "source": []
  },
  {
   "cell_type": "code",
   "execution_count": null,
   "id": "95fe49cd",
   "metadata": {},
   "outputs": [],
   "source": []
  }
 ],
 "metadata": {
  "kernelspec": {
   "display_name": "Python 3 (ipykernel)",
   "language": "python",
   "name": "python3"
  },
  "language_info": {
   "codemirror_mode": {
    "name": "ipython",
    "version": 3
   },
   "file_extension": ".py",
   "mimetype": "text/x-python",
   "name": "python",
   "nbconvert_exporter": "python",
   "pygments_lexer": "ipython3",
   "version": "3.9.13"
  }
 },
 "nbformat": 4,
 "nbformat_minor": 5
}
